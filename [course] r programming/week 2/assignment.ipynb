{
 "cells": [
  {
   "cell_type": "code",
   "execution_count": 8,
   "metadata": {
    "collapsed": false,
    "scrolled": true
   },
   "outputs": [
    {
     "name": "stdout",
     "output_type": "stream",
     "text": [
      " [1] \"\\\"Date\\\",\\\"sulfate\\\",\\\"nitrate\\\",\\\"ID\\\"\"\n",
      " [2] \"\\\"2003-01-01\\\",NA,NA,1\"                 \n",
      " [3] \"\\\"2003-01-02\\\",NA,NA,1\"                 \n",
      " [4] \"\\\"2003-01-03\\\",NA,NA,1\"                 \n",
      " [5] \"\\\"2003-01-04\\\",NA,NA,1\"                 \n",
      " [6] \"\\\"2003-01-05\\\",NA,NA,1\"                 \n",
      " [7] \"\\\"2003-01-06\\\",NA,NA,1\"                 \n",
      " [8] \"\\\"2003-01-07\\\",NA,NA,1\"                 \n",
      " [9] \"\\\"2003-01-08\\\",NA,NA,1\"                 \n",
      "[10] \"\\\"2003-01-09\\\",NA,NA,1\"                 \n"
     ]
    }
   ],
   "source": [
    "print(readLines(\"specdata/001.csv\", n = 10))"
   ]
  },
  {
   "cell_type": "code",
   "execution_count": 11,
   "metadata": {
    "collapsed": false
   },
   "outputs": [],
   "source": [
    "pollutantmean <- function(directory, pollutant, id = 1:332) {\n",
    "    \n",
    "    dfs <- frame.date()\n",
    "    \n",
    "    for(i in id) {\n",
    "        filename <- paste(directory, paste(formatC(i, width = 3, flag = \"0\"), \".csv\", sep=\"\"), sep=\"/\")\n",
    "        \n",
    "        df <- read.csv(filename)\n",
    "    }\n",
    "}"
   ]
  },
  {
   "cell_type": "code",
   "execution_count": 15,
   "metadata": {
    "collapsed": false
   },
   "outputs": [
    {
     "data": {
      "text/html": [
       "'1.000'"
      ],
      "text/latex": [
       "'1.000'"
      ],
      "text/markdown": [
       "'1.000'"
      ],
      "text/plain": [
       "[1] \"1.000\""
      ]
     },
     "metadata": {},
     "output_type": "display_data"
    }
   ],
   "source": [
    "format(1, nsmall = 3)"
   ]
  },
  {
   "cell_type": "code",
   "execution_count": 14,
   "metadata": {
    "collapsed": false
   },
   "outputs": [],
   "source": [
    "?format"
   ]
  },
  {
   "cell_type": "code",
   "execution_count": 16,
   "metadata": {
    "collapsed": false
   },
   "outputs": [
    {
     "ename": "ERROR",
     "evalue": "Error in \"a\" + \"b\": argumento não-numérico para operador binário\n",
     "output_type": "error",
     "traceback": [
      "Error in \"a\" + \"b\": argumento não-numérico para operador binário\nTraceback:\n"
     ]
    }
   ],
   "source": [
    "\"a\" + \"b\""
   ]
  },
  {
   "cell_type": "code",
   "execution_count": 18,
   "metadata": {
    "collapsed": false
   },
   "outputs": [
    {
     "data": {
      "text/html": [
       "'specdata/huas'"
      ],
      "text/latex": [
       "'specdata/huas'"
      ],
      "text/markdown": [
       "'specdata/huas'"
      ],
      "text/plain": [
       "[1] \"specdata/huas\""
      ]
     },
     "metadata": {},
     "output_type": "display_data"
    }
   ],
   "source": [
    "paste(\"specdata\", \"huas\", sep=\"/\")"
   ]
  },
  {
   "cell_type": "code",
   "execution_count": 24,
   "metadata": {
    "collapsed": false
   },
   "outputs": [
    {
     "data": {
      "text/html": [
       "'specdata/001.csv'"
      ],
      "text/latex": [
       "'specdata/001.csv'"
      ],
      "text/markdown": [
       "'specdata/001.csv'"
      ],
      "text/plain": [
       "[1] \"specdata/001.csv\""
      ]
     },
     "metadata": {},
     "output_type": "display_data"
    }
   ],
   "source": [
    "paste(directory, paste(formatC(i, width = 3, flag = \"0\"), \".csv\", sep=\"\"), sep=\"/\")"
   ]
  },
  {
   "cell_type": "code",
   "execution_count": 20,
   "metadata": {
    "collapsed": true
   },
   "outputs": [],
   "source": [
    "directory <- \"specdata\"\n",
    "i <- 1"
   ]
  },
  {
   "cell_type": "code",
   "execution_count": null,
   "metadata": {
    "collapsed": true
   },
   "outputs": [],
   "source": []
  }
 ],
 "metadata": {
  "anaconda-cloud": {},
  "kernelspec": {
   "display_name": "R",
   "language": "R",
   "name": "ir"
  },
  "language_info": {
   "codemirror_mode": "r",
   "file_extension": ".r",
   "mimetype": "text/x-r-source",
   "name": "R",
   "pygments_lexer": "r",
   "version": "3.3.3"
  }
 },
 "nbformat": 4,
 "nbformat_minor": 1
}
